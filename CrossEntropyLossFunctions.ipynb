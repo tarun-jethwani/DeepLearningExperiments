{
  "nbformat": 4,
  "nbformat_minor": 0,
  "metadata": {
    "colab": {
      "name": "CrossEntropyLossFunctions.ipynb",
      "provenance": [],
      "collapsed_sections": [],
      "include_colab_link": true
    },
    "kernelspec": {
      "name": "python3",
      "display_name": "Python 3"
    }
  },
  "cells": [
    {
      "cell_type": "markdown",
      "metadata": {
        "id": "view-in-github",
        "colab_type": "text"
      },
      "source": [
        "<a href=\"https://colab.research.google.com/github/tarun-jethwani/DeepLearningExperiments/blob/master/CrossEntropyLossFunctions.ipynb\" target=\"_parent\"><img src=\"https://colab.research.google.com/assets/colab-badge.svg\" alt=\"Open In Colab\"/></a>"
      ]
    },
    {
      "cell_type": "code",
      "metadata": {
        "id": "k804DtEEf_cL",
        "colab_type": "code",
        "colab": {}
      },
      "source": [
        "import numpy as np"
      ],
      "execution_count": 0,
      "outputs": []
    },
    {
      "cell_type": "code",
      "metadata": {
        "id": "PRPySiPpXtqU",
        "colab_type": "code",
        "colab": {}
      },
      "source": [
        "y_true = np.array([[0, 0, 1],\n",
        "          [1, 0, 0],\n",
        "          [0, 0, 1],\n",
        "          [0, 1, 0]])"
      ],
      "execution_count": 0,
      "outputs": []
    },
    {
      "cell_type": "code",
      "metadata": {
        "id": "lTG_TjCOfYEG",
        "colab_type": "code",
        "colab": {}
      },
      "source": [
        "y_pred = np.array([[0.2, 0.1, 0.8],\n",
        "          [0.7, 0.1, 0.2],\n",
        "          [0.1, 0.2, 0.9],\n",
        "          [0.2, 0.8, 0.1]])"
      ],
      "execution_count": 0,
      "outputs": []
    },
    {
      "cell_type": "markdown",
      "metadata": {
        "id": "_X3PFkL_gZzA",
        "colab_type": "text"
      },
      "source": [
        "### Cross Entropy Loss Function"
      ]
    },
    {
      "cell_type": "code",
      "metadata": {
        "id": "m-yRlRkBWwLs",
        "colab_type": "code",
        "colab": {}
      },
      "source": [
        "loss_cat_cross_entropy = -np.sum(y_true * np.log(y_pred))"
      ],
      "execution_count": 0,
      "outputs": []
    },
    {
      "cell_type": "markdown",
      "metadata": {
        "id": "iIBbhxfzgmt4",
        "colab_type": "text"
      },
      "source": [
        "### Sparse Categorical Cross Entropy"
      ]
    },
    {
      "cell_type": "code",
      "metadata": {
        "id": "1x1xkkzLcxnN",
        "colab_type": "code",
        "colab": {}
      },
      "source": [
        "y_true_labels = np.array([2,0,2,1])"
      ],
      "execution_count": 0,
      "outputs": []
    },
    {
      "cell_type": "code",
      "metadata": {
        "id": "Q_lgainvdejh",
        "colab_type": "code",
        "colab": {
          "base_uri": "https://localhost:8080/",
          "height": 34
        },
        "outputId": "352c7b50-9901-4392-880d-fe00c7ade495"
      },
      "source": [
        "loss_sparse_cat_cross_entropy = -(np.sum(np.log(y_pred[range(4), y_true_labels])))"
      ],
      "execution_count": 14,
      "outputs": [
        {
          "output_type": "execute_result",
          "data": {
            "text/plain": [
              "-3.2"
            ]
          },
          "metadata": {
            "tags": []
          },
          "execution_count": 14
        }
      ]
    }
  ]
}
